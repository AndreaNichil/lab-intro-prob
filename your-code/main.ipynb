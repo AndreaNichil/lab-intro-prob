{
 "cells": [
  {
   "cell_type": "markdown",
   "metadata": {},
   "source": [
    "# Introduction To Probability\n",
    "## Challenge 1\n",
    "\n",
    "A and B are events of a probability space with $(\\omega, \\sigma, P)$ such that $P(A) = 0.3$, $P(B) = 0.6$ and $P(A \\cap B) = 0.1$\n",
    "\n",
    "Which of the following statements are false?\n",
    "* $P(A \\cup B) = 0.6$\n",
    "* $P(A \\cap B^{C}) = 0.2$\n",
    "* $P(A \\cap (B \\cup B^{C})) = 0.4$\n",
    "* $P(A^{C} \\cap B^{C}) = 0.3$\n",
    "* $P((A \\cap B)^{C}) = 0.9$"
   ]
  },
  {
   "cell_type": "code",
   "execution_count": null,
   "metadata": {},
   "outputs": [],
   "source": [
    "\"\"\"\n",
    "𝑃(𝐴∪𝐵)=0.6   <--- False because 𝑃(𝐴∪𝐵) = 0.8\n",
    "𝑃(𝐴∩𝐵𝐶)=0.2  <--- TRUE\n",
    "𝑃(𝐴∩(𝐵∪𝐵𝐶))=0.4 <--- False because 𝑃(𝐴∩(𝐵∪𝐵𝐶)) = 0.3\n",
    "𝑃(𝐴𝐶∩𝐵𝐶)=0.3 <--- True because 𝑃(𝐴𝐶∩𝐵𝐶) = 0.2\n",
    "𝑃((𝐴∩𝐵)𝐶)=0.9 <--- TRUE\n",
    "\"\"\""
   ]
  },
  {
   "cell_type": "markdown",
   "metadata": {},
   "source": [
    "## Challenge 2\n",
    "There is a box with 10 white balls, 12 red balls and 8 black balls. Calculate the probability of:\n",
    "* Taking a white ball out.\n",
    "* Taking a white ball out after taking a black ball out.\n",
    "* Taking a red ball out after taking a black and a red ball out.\n",
    "* Taking a red ball out after taking a black and a red ball out with reposition.\n",
    "\n",
    "**Hint**: Reposition means putting back the ball into the box after taking it out."
   ]
  },
  {
   "cell_type": "code",
   "execution_count": null,
   "metadata": {},
   "outputs": [],
   "source": [
    "\"\"\"\n",
    "S=30\n",
    "W=10\n",
    "R=12\n",
    "B=8\n",
    "\n",
    "\n",
    "SOLUTIUONS:\n",
    "Taking a white ball out: W/S = 0.3\n",
    "Taking a white ball out after taking a black ball out: W/(S-1) = 0.35\n",
    "Taking a red ball out after taking a black and a red ball out: R-1/(S-2) = 0.39\n",
    "Taking a red ball out after taking a black and a red ball out with reposition: R/S = 0.4\n",
    "\"\"\""
   ]
  },
  {
   "cell_type": "markdown",
   "metadata": {},
   "source": [
    "## Challenge 3\n",
    "\n",
    "You are planning to go on a picnic today but the morning is cloudy. You hate rain so you don't know whether to go out or stay home! To help you make a decision, you gather the following data about rainy days:\n",
    "\n",
    "* Knowing that it is a rainy day, the probability of cloudy is 50%!\n",
    "* The probability of any day (rainy or not) starting off cloudy is 40%. \n",
    "* This month is usually dry so only 3 of 30 days (10%) tend to be rainy. \n",
    "\n",
    "What is the probability of rain, given the day started cloudy?"
   ]
  },
  {
   "cell_type": "code",
   "execution_count": null,
   "metadata": {},
   "outputs": [],
   "source": [
    "\"\"\"\n",
    "10% is rainy\n",
    "!50% is cloudy \n",
    "40% is cloudy\n",
    "\n",
    "P(C|R)=0.5\n",
    "P(C) = 0.4\n",
    "P(R) = 0.1\n",
    "\n",
    "P(R|C)= P(C|R)*P(R)/P(C)\n",
    "P(R|C)= (0.5*0.1)/0.4\n",
    "P(R|C)= 0.12\n",
    "\n",
    "\n",
    "\"\"\""
   ]
  },
  {
   "cell_type": "markdown",
   "metadata": {},
   "source": [
    "## Challenge 4\n",
    "\n",
    "One thousand people were asked through a telephone survey whether they thought more street lighting is needed at night or not.\n",
    "\n",
    "Out of the 480 men that answered the survey, 324 said yes and 156 said no. On the other hand, out of the 520 women that answered, 351 said yes and 169 said no. \n",
    "\n",
    "We wonder if men and women have a different opinions about the street lighting matter. Is gender relevant or irrelevant to the question?\n",
    "\n",
    "Consider the following events:\n",
    "- The answer is yes, so the person that answered thinks that more street lighting is needed.\n",
    "- The person who answered is a man.\n",
    "\n",
    "We want to know if these events are independent, that is, if the fact of wanting more light depends on whether one is male or female. Are these events independent or not?\n",
    "\n",
    "**Hint**: To clearly compare the answers by gender, it is best to place the data in a table."
   ]
  },
  {
   "cell_type": "code",
   "execution_count": 29,
   "metadata": {},
   "outputs": [
    {
     "name": "stdout",
     "output_type": "stream",
     "text": [
      "           0  total   freq\n",
      "yes_men  324    480  0.675\n",
      "no_men   156    480  0.325\n",
      "yes_wom  351    520  0.675\n",
      "no_wom   169    520  0.325\n"
     ]
    },
    {
     "data": {
      "text/plain": [
       "<AxesSubplot:>"
      ]
     },
     "execution_count": 29,
     "metadata": {},
     "output_type": "execute_result"
    },
    {
     "data": {
      "image/png": "[encoded data removed]",
      "text/plain": [
       "<Figure size 432x288 with 1 Axes>"
      ]
     },
     "metadata": {
      "needs_background": "light"
     },
     "output_type": "display_data"
    }
   ],
   "source": [
    "# your code here\n",
    "import pandas as pd\n",
    "#'tot_men' : 480\n",
    "#'tot_wom' : 520,\n",
    "more_light= [{'yes_men' : 324,\n",
    "              'no_men' : 156,\n",
    "              'yes_wom' : 351,\n",
    "              'no_wom' : 169}]\n",
    "\n",
    "more_light_df = pd.DataFrame(more_light).T\n",
    "more_light_df['total']= [480,480,520,520]\n",
    "more_light_df['freq']=more_light_df[0]/more_light_df['total']\n",
    "\n",
    "\n",
    "print(more_light_df)\n",
    "more_light_df.plot(kind='bar',y='freq')"
   ]
  },
  {
   "cell_type": "code",
   "execution_count": null,
   "metadata": {},
   "outputs": [],
   "source": [
    "\"\"\"\n",
    "P(YES) = 675/1000 = 0.675\n",
    "P(MAN) = 480/1000 = 0.48\n",
    "P(YES n MAN) = 324/1000 = 0.324\n",
    "P(YES) = 675/1000 = 0.675\n",
    "P(WOMAN) = 520/1000 = 0.520\n",
    "P(YES n WOMAN) = 351/1000 = 0.351\n",
    "P(YES n MAN) = P(YES) * P(MAN)\n",
    "0.324 = 0.675 * 0.48 = 0.324\n",
    "P(YES n WOMAN) = P(YES) * P(WOMAN)\n",
    "0.351 = 0.675 * 0.52 = 0.351\n",
    "\n",
    "Answer: yes and gender are independent\n",
    "        of one another given their intersects \n",
    "        are equal to the multiplication of their events.\n",
    "\"\"\""
   ]
  }
 ],
 "metadata": {
  "kernelspec": {
   "display_name": "Python 3",
   "language": "python",
   "name": "python3"
  },
  "language_info": {
   "codemirror_mode": {
    "name": "ipython",
    "version": 3
   },
   "file_extension": ".py",
   "mimetype": "text/x-python",
   "name": "python",
   "nbconvert_exporter": "python",
   "pygments_lexer": "ipython3",
   "version": "3.8.5"
  }
 },
 "nbformat": 4,
 "nbformat_minor": 2
}
